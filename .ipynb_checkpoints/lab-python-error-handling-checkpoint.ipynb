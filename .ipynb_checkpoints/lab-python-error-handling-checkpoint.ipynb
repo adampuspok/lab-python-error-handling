{
 "cells": [
  {
   "cell_type": "markdown",
   "id": "25d7736c-ba17-4aff-b6bb-66eba20fbf4e",
   "metadata": {},
   "source": [
    "# Lab | Error Handling"
   ]
  },
  {
   "cell_type": "markdown",
   "id": "bc99b386-7508-47a0-bcdb-d969deaf6c8b",
   "metadata": {},
   "source": [
    "## Exercise: Error Handling for Managing Customer Orders\n",
    "\n",
    "The implementation of your code for managing customer orders assumes that the user will always enter a valid input. \n",
    "\n",
    "For example, we could modify the `initialize_inventory` function to include error handling.\n",
    "   - If the user enters an invalid quantity (e.g., a negative value or a non-numeric value), display an error message and ask them to re-enter the quantity for that product.\n",
    "   - Use a try-except block to handle the error and continue prompting the user until a valid quantity is entered.\n",
    "\n",
    "```python\n",
    "# Step 1: Define the function for initializing the inventory with error handling\n",
    "def initialize_inventory(products):\n",
    "    inventory = {}\n",
    "    for product in products:\n",
    "        valid_quantity = False\n",
    "        while not valid_quantity:\n",
    "            try:\n",
    "                quantity = int(input(f\"Enter the quantity of {product}s available: \"))\n",
    "                if quantity < 0:\n",
    "                    raise ValueError(\"Invalid quantity! Please enter a non-negative value.\")\n",
    "                valid_quantity = True\n",
    "            except ValueError as error:\n",
    "                print(f\"Error: {error}\")\n",
    "        inventory[product] = quantity\n",
    "    return inventory\n",
    "\n",
    "# Or, in another way:\n",
    "\n",
    "def initialize_inventory(products):\n",
    "    inventory = {}\n",
    "    for product in products:\n",
    "        valid_input = False\n",
    "        while not valid_input:\n",
    "            try:\n",
    "                quantity = int(input(f\"Enter the quantity of {product}s available: \"))\n",
    "                if quantity >= 0:\n",
    "                    inventory[product] = quantity\n",
    "                    valid_input = True\n",
    "                else:\n",
    "                    print(\"Quantity cannot be negative. Please enter a valid quantity.\")\n",
    "            except ValueError:\n",
    "                print(\"Invalid input. Please enter a valid quantity.\")\n",
    "    return inventory\n",
    "```\n",
    "\n",
    "Let's enhance your code by implementing error handling to handle invalid inputs.\n",
    "\n",
    "Follow the steps below to complete the exercise:\n",
    "\n",
    "2. Modify the `calculate_total_price` function to include error handling.\n",
    "   - If the user enters an invalid price (e.g., a negative value or a non-numeric value), display an error message and ask them to re-enter the price for that product.\n",
    "   - Use a try-except block to handle the error and continue prompting the user until a valid price is entered.\n",
    "\n",
    "3. Modify the `get_customer_orders` function to include error handling.\n",
    "   - If the user enters an invalid number of orders (e.g., a negative value or a non-numeric value), display an error message and ask them to re-enter the number of orders.\n",
    "   - If the user enters an invalid product name (e.g., a product name that is not in the inventory), or that doesn't have stock available, display an error message and ask them to re-enter the product name. *Hint: you will need to pass inventory as a parameter*\n",
    "   - Use a try-except block to handle the error and continue prompting the user until a valid product name is entered.\n",
    "\n",
    "4. Test your code by running the program and deliberately entering invalid quantities and product names. Make sure the error handling mechanism works as expected.\n"
   ]
  },
  {
   "cell_type": "code",
   "execution_count": 31,
   "id": "8710e33c-3194-4774-9d66-586c4a13073a",
   "metadata": {},
   "outputs": [
    {
     "name": "stdin",
     "output_type": "stream",
     "text": [
      "Enter the quantity of t-shirts available:  5\n",
      "Enter the quantity of mugs available:  -1\n"
     ]
    },
    {
     "name": "stdout",
     "output_type": "stream",
     "text": [
      "Error: Invalid quantity! Please enter a non-negative value.\n"
     ]
    },
    {
     "name": "stdin",
     "output_type": "stream",
     "text": [
      "Enter the quantity of mugs available:  4\n",
      "Enter the quantity of hats available:  3\n",
      "Enter the quantity of books available:  2\n",
      "Enter the quantity of keychains available:  3\n",
      "How many products do you want to order?  1\n",
      "Enter product name #1:  lion\n"
     ]
    },
    {
     "name": "stdout",
     "output_type": "stream",
     "text": [
      "Error: Product not found in inventory.\n"
     ]
    },
    {
     "name": "stdin",
     "output_type": "stream",
     "text": [
      "Enter product name #1:  mug\n"
     ]
    },
    {
     "name": "stdout",
     "output_type": "stream",
     "text": [
      "\n",
      "Order Statistics:\n",
      "Total Products Ordered: 1\n",
      "Percentage of Products Ordered: 6%\n",
      "\n",
      "Updated inventory:\n",
      "t-shirt: 5\n",
      "mug: 3\n",
      "hat: 3\n",
      "book: 2\n",
      "keychain: 3\n"
     ]
    },
    {
     "name": "stdin",
     "output_type": "stream",
     "text": [
      "Enter the price of mug:...€ -1\n"
     ]
    },
    {
     "name": "stdout",
     "output_type": "stream",
     "text": [
      "Error: Price cannot be negative. Please enter a valid, non-negative number.\n"
     ]
    },
    {
     "name": "stdin",
     "output_type": "stream",
     "text": [
      "Enter the price of mug:...€ 5\n"
     ]
    },
    {
     "name": "stdout",
     "output_type": "stream",
     "text": [
      "Total Price: 5.0 €\n"
     ]
    }
   ],
   "source": [
    "#Inventory details\n",
    "products = ['t-shirt', 'mug', 'hat', 'book', 'keychain']\n",
    "\n",
    "#1 inventory\n",
    "\n",
    "\n",
    "\n",
    "def initialize_inventory(products):\n",
    "    inventory = {}\n",
    "    for product in products:\n",
    "        valid_quantity = False\n",
    "        while not valid_quantity:\n",
    "            try:\n",
    "                quantity = int(input(f\"Enter the quantity of {product}s available: \"))\n",
    "                if quantity < 0:\n",
    "                    raise ValueError(\"Invalid quantity! Please enter a non-negative value.\")\n",
    "                valid_quantity = True\n",
    "            except ValueError as error:\n",
    "                print(f\"Error: {error}\")\n",
    "        inventory[product] = quantity\n",
    "    return inventory\n",
    "\n",
    "inventory = initialize_inventory(products)\n",
    "\n",
    "\n",
    "\n",
    "\n",
    "#2 get_customer_orders:\n",
    "\n",
    "def get_customer_orders(inventory):\n",
    "    customer_orders = set()\n",
    "    while True:\n",
    "        try:\n",
    "            num_orders = int(input(\"How many products do you want to order? \"))\n",
    "            if num_orders < 0:\n",
    "                raise ValueError(\"The number of orders cannot be negative.\")\n",
    "            break\n",
    "        except ValueError as error:\n",
    "            print(f\"Error: {error}. Please enter a valid non-negative integer.\")\n",
    "    while len(customer_orders) < num_orders:\n",
    "        product = input(f\"Enter product name #{len(customer_orders) + 1}: \").strip().lower()\n",
    "        try:\n",
    "            if product not in inventory:\n",
    "                raise ValueError(\"Product not found in inventory.\")\n",
    "            if inventory[product] <= 0:\n",
    "                raise ValueError(f\"No stock available for '{product}'.\")\n",
    "            if product in customer_orders:\n",
    "                raise ValueError(\"You already ordered this product.\")\n",
    "            customer_orders.add(product)\n",
    "        except ValueError as error:\n",
    "            print(f\"Error: {error}\")\n",
    "    return customer_orders\n",
    "\n",
    "\n",
    "customer_orders = get_customer_orders(inventory)\n",
    "\n",
    "\n",
    "\n",
    "#3 update_inventory:\n",
    "\n",
    "def update_inventory(customer_orders, inventory):\n",
    "    for product in customer_orders:\n",
    "        if product in inventory:\n",
    "            if inventory[product] > 0:\n",
    "                inventory[product] -= 1\n",
    "            elif product in inventory and inventory[product] <= 0:\n",
    "                print(f\"There is not enough {product} on stock to fulfill the order!\")\n",
    "\n",
    "    inventory = {product: quantity for product, quantity in inventory.items() if quantity > 0}\n",
    "    return inventory\n",
    "\n",
    "\n",
    "inventory = update_inventory(customer_orders, inventory)\n",
    "\n",
    "\n",
    "#4 calculate_order_statistics:\n",
    "\n",
    "def calculate_order_statistics(customer_orders, products):\n",
    "    total_ordered = len(customer_orders)\n",
    "    total_inventory = sum(inventory.values())\n",
    "    percentage_ordered = (total_ordered / total_inventory) * 100\n",
    "\n",
    "    return total_ordered, percentage_ordered\n",
    "\n",
    "total_ordered, percentage_ordered = calculate_order_statistics(customer_orders, products)\n",
    "\n",
    "order_statistics = calculate_order_statistics(customer_orders, products)\n",
    "\n",
    "#5 Define print_order_statistics:\n",
    "\n",
    "def print_order_statistics(order_statistics):\n",
    "    print()\n",
    "    print(\"Order Statistics:\")\n",
    "    print(f\"Total Products Ordered: {total_ordered}\")\n",
    "    print(f\"Percentage of Products Ordered: {round(percentage_ordered)}%\")\n",
    "    print()\n",
    "    return\n",
    "\n",
    "\n",
    "print_order_statistics(order_statistics)\n",
    "\n",
    "print(\"Updated inventory:\")\n",
    "for product, quantity in inventory.items():\n",
    "    print(f\"{product}: {quantity}\")\n",
    "\n",
    "\n",
    "#6 Add price:\n",
    "\n",
    "def calculate_total_price(customer_orders):\n",
    "    total_price = 0\n",
    "    for product in customer_orders:\n",
    "        valid_price = False\n",
    "        while not valid_price:\n",
    "            try:\n",
    "                price=float(input(f\"Enter the price of {product}:...€\"))\n",
    "                if price < 0:\n",
    "                    raise ValueError(\"Price cannot be negative\")\n",
    "                total_price += price\n",
    "                valid_price = True\n",
    "            except ValueError as error:\n",
    "                print(f\"Error: {error}. Please enter a valid, non-negative number.\")\n",
    "    return total_price\n",
    "                                \n",
    "\n",
    "total_price = calculate_total_price(customer_orders)\n",
    "print(f\"Total Price: {total_price} €\")\n",
    "\n"
   ]
  },
  {
   "cell_type": "code",
   "execution_count": null,
   "id": "2d271d76-afe2-4f8e-b9f3-029f201740e4",
   "metadata": {},
   "outputs": [],
   "source": []
  }
 ],
 "metadata": {
  "kernelspec": {
   "display_name": "Python 3 (ipykernel)",
   "language": "python",
   "name": "python3"
  },
  "language_info": {
   "codemirror_mode": {
    "name": "ipython",
    "version": 3
   },
   "file_extension": ".py",
   "mimetype": "text/x-python",
   "name": "python",
   "nbconvert_exporter": "python",
   "pygments_lexer": "ipython3",
   "version": "3.12.7"
  }
 },
 "nbformat": 4,
 "nbformat_minor": 5
}
